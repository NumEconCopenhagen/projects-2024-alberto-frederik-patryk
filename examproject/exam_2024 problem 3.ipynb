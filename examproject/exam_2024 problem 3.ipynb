{
 "cells": [
  {
   "cell_type": "code",
   "execution_count": 3,
   "metadata": {},
   "outputs": [],
   "source": [
    "# Write your code here\n",
    "import numpy as np\n",
    "from types import SimpleNamespace"
   ]
  },
  {
   "cell_type": "markdown",
   "metadata": {},
   "source": [
    "## 3. <a id='toc3_'></a>[Problem 3: Barycentric interpolation](#toc0_)"
   ]
  },
  {
   "cell_type": "markdown",
   "metadata": {},
   "source": [
    "**Problem:** We have a set of random points in the unit square,\n",
    "\n",
    "$$\n",
    "\\mathcal{X} = \\{(x_1,x_2)\\,|\\,x_1\\sim\\mathcal{U}(0,1),x_2\\sim\\mathcal{U}(0,1)\\}.\n",
    "$$\n",
    "\n",
    "For these points, we know the value of some function $f(x_1,x_2)$,\n",
    "\n",
    "$$\n",
    "\\mathcal{F} = \\{f(x_1,x_2) \\,|\\, (x_1,x_2) \\in \\mathcal{X}\\}.\n",
    "$$\n",
    "\n",
    "Now we want to approximate the value $f(y_1,y_2)$ for some  $y=(y_1,y_2)$, where $y_1\\sim\\mathcal{U}(0,1)$ and $y_2\\sim\\mathcal{U}(0,1)$.\n",
    "\n",
    "**Building block I**\n",
    "\n",
    "For an arbitrary triangle $ABC$ and a point $y$, define the so-called barycentric coordinates as:\n",
    "\n",
    "$$\n",
    "\\begin{align*}\n",
    "  r^{ABC}_1 &= \\frac{(B_2-C_2)(y_1-C_1) + (C_1-B_1)(y_2-C_2)}{(B_2-C_2)(A_1-C_1) + (C_1-B_1)(A_2-C_2)} \\\\\n",
    "  r^{ABC}_2 &= \\frac{(C_2-A_2)(y_1-C_1) + (A_1-C_1)(y_2-C_2)}{(B_2-C_2)(A_1-C_1) + (C_1-B_1)(A_2-C_2)} \\\\\n",
    "  r^{ABC}_3 &= 1 - r_1 - r_2.\n",
    "\\end{align*}\n",
    "$$\n",
    "\n",
    "If $r^{ABC}_1 \\in [0,1]$, $r^{ABC}_2 \\in [0,1]$, and $r^{ABC}_3 \\in [0,1]$, then the point is inside the triangle.\n",
    "\n",
    "We always have $y = r^{ABC}_1 A + r^{ABC}_2 B + r^{ABC}_3 C$.\n",
    "\n",
    "**Building block II**\n",
    "\n",
    "Define the following points:\n",
    "\n",
    "$$\n",
    "\\begin{align*}\n",
    "A&=\\arg\\min_{(x_{1},x_{2})\\in\\mathcal{X}}\\sqrt{\\left(x_{1}-y_{1}\\right)^{2}+\\left(x_{2}-y_{2}\\right)^{2}}\\text{ s.t. }x_{1}>y_{1}\\text{ and }x_{2}>y_{2}\\\\\n",
    "B&=\\arg\\min_{(x_{1},x_{2})\\in\\mathcal{X}}\\sqrt{\\left(x_{1}-y_{1}\\right)^{2}+\\left(x_{2}-y_{2}\\right)^{2}}\\text{ s.t. }x_{1}>y_{1}\\text{ and }x_{2}<y_{2}\\\\\n",
    "C&=\\arg\\min_{(x_{1},x_{2})\\in\\mathcal{X}}\\sqrt{\\left(x_{1}-y_{1}\\right)^{2}+\\left(x_{2}-y_{2}\\right)^{2}}\\text{ s.t. }x_{1}<y_{1}\\text{ and }x_{2}<y_{2}\\\\\n",
    "D&=\\arg\\min_{(x_{1},x_{2})\\in\\mathcal{X}}\\sqrt{\\left(x_{1}-y_{1}\\right)^{2}+\\left(x_{2}-y_{2}\\right)^{2}}\\text{ s.t. }x_{1}<y_{1}\\text{ and }x_{2}>y_{2}.\n",
    "\\end{align*}\n",
    "$$\n",
    "\n",
    "**Algorithm:**\n",
    "\n",
    "1. Compute $A$, $B$, $C$, and $D$. If not possible return `NaN`.\n",
    "1. If $y$ is inside the triangle $ABC$ return $r^{ABC}_1 f(A) + r^{ABC}_2 f(B) + r^{ABC}_3 f(C)$.\n",
    "1. If $y$ is inside the triangle $CDA$ return $r^{CDA}_1 f(C) + r^{CDA}_2 f(D) + r^{CDA}_3 f(A)$.\n",
    "1. Return `NaN`.\n",
    "\n"
   ]
  },
  {
   "cell_type": "markdown",
   "metadata": {},
   "source": [
    "**Sample:**"
   ]
  },
  {
   "cell_type": "code",
   "execution_count": 4,
   "metadata": {},
   "outputs": [],
   "source": [
    "rng = np.random.default_rng(2024)\n",
    "\n",
    "X = rng.uniform(size=(50,2))\n",
    "y = rng.uniform(size=(2,))\n"
   ]
  },
  {
   "cell_type": "markdown",
   "metadata": {},
   "source": [
    "**Questions 1:** Find $A$, $B$, $C$ and $D$. Illustrate these together with $X$, $y$ and the triangles $ABC$ and $CDA$."
   ]
  },
  {
   "cell_type": "code",
   "execution_count": 5,
   "metadata": {},
   "outputs": [
    {
     "name": "stdout",
     "output_type": "stream",
     "text": [
      "Point y: [0.20901926 0.37774759]\n",
      "Point A: [0.26071605 0.43635845]\n",
      "Point B: [0.21315735 0.274245  ]\n",
      "Point C: [0.10056103 0.27951775]\n",
      "Point D: [0.20634391 0.44272557]\n"
     ]
    },
    {
     "data": {
      "image/png": "[encoded data removed]",
      "text/plain": [
       "<Figure size 640x480 with 1 Axes>"
      ]
     },
     "metadata": {},
     "output_type": "display_data"
    }
   ],
   "source": [
    "# write your answer here\n",
    "\n",
    "import numpy as np\n",
    "import matplotlib.pyplot as plt\n",
    "\n",
    "# Function to find the points A, B, C, D\n",
    "def find_points(X, y):\n",
    "    # Initialize distances with a large value\n",
    "    dist_A = np.inf\n",
    "    dist_B = np.inf\n",
    "    dist_C = np.inf\n",
    "    dist_D = np.inf\n",
    "    \n",
    "    A, B, C, D = None, None, None, None\n",
    "    \n",
    "    for point in X:\n",
    "        dist = np.linalg.norm(point - y)\n",
    "        \n",
    "        if point[0] > y[0] and point[1] > y[1] and dist < dist_A:\n",
    "            A = point\n",
    "            dist_A = dist\n",
    "        \n",
    "        if point[0] > y[0] and point[1] < y[1] and dist < dist_B:\n",
    "            B = point\n",
    "            dist_B = dist\n",
    "        \n",
    "        if point[0] < y[0] and point[1] < y[1] and dist < dist_C:\n",
    "            C = point\n",
    "            dist_C = dist\n",
    "        \n",
    "        if point[0] < y[0] and point[1] > y[1] and dist < dist_D:\n",
    "            D = point\n",
    "            dist_D = dist\n",
    "    \n",
    "    return A, B, C, D\n",
    "\n",
    "A, B, C, D = find_points(X, y)\n",
    "\n",
    "# Print the points for debugging\n",
    "print(f'Point y: {y}')\n",
    "print(f'Point A: {A}')\n",
    "print(f'Point B: {B}')\n",
    "print(f'Point C: {C}')\n",
    "print(f'Point D: {D}')\n",
    "\n",
    "# Plotting the points\n",
    "plt.scatter(X[:,0], X[:,1], label='Points in X')\n",
    "plt.scatter(y[0], y[1], color='red', label='y')\n",
    "if A is not None:\n",
    "    plt.scatter(A[0], A[1], color='blue', label='A')\n",
    "if B is not None:\n",
    "    plt.scatter(B[0], B[1], color='green', label='B')\n",
    "if C is not None:\n",
    "    plt.scatter(C[0], C[1], color='purple', label='C')\n",
    "if D is not None:\n",
    "    plt.scatter(D[0], D[1], color='orange', label='D')\n",
    "plt.legend()\n",
    "plt.xlabel('x1')\n",
    "plt.ylabel('x2')\n",
    "plt.title('Points and Triangles')\n",
    "plt.show()\n",
    "\n"
   ]
  },
  {
   "cell_type": "markdown",
   "metadata": {},
   "source": [
    "**Question 2:** Compute the barycentric coordinates of the point $y$ with respect to the triangles $ABC$ and $CDA$. Which triangle is $y$ located inside?"
   ]
  },
  {
   "cell_type": "code",
   "execution_count": 6,
   "metadata": {},
   "outputs": [],
   "source": [
    "# write your answer here\n",
    "\n",
    "# Function to calculate barycentric coordinates\n",
    "def barycentric_coordinates(x, A, B, C):\n",
    "    denominator = (B[1] - C[1]) * (A[0] - C[0]) + (C[0] - B[0]) * (A[1] - C[1])\n",
    "    r1 = ((B[1] - C[1]) * (x[0] - C[0]) + (C[0] - B[0]) * (x[1] - C[1])) / denominator\n",
    "    r2 = ((C[1] - A[1]) * (x[0] - C[0]) + (A[0] - C[0]) * (x[1] - C[1])) / denominator\n",
    "    r3 = 1 - r1 - r2\n",
    "    return r1, r2, r3\n",
    "\n",
    "# Compute barycentric coordinates for y with respect to ABC and CDA\n",
    "\n",
    "def compute_interpolation(y, A, B, C, D):\n",
    "    if any(pt is None for pt in [A, B, C, D]):\n",
    "        return np.nan\n",
    "\n",
    "    rABC1, rABC2, rABC3 = barycentric_coordinates(y, A, B, C)\n",
    "    rCDA1, rCDA2, rCDA3 = barycentric_coordinates(y, C, D, A)\n",
    "\n",
    "    # Check if y is inside the triangle ABC\n",
    "    if all(0 <= r <= 1 for r in [rABC1, rABC2, rABC3] if r is not None):\n",
    "        return rABC1 * f(A) + rABC2 * f(B) + rABC3 * f(C)\n",
    "    # Check if y is inside the triangle CDA\n",
    "    elif all(0 <= r <= 1 for r in [rCDA1, rCDA2, rCDA3] if r is not None):\n",
    "        return rCDA1 * f(C) + rCDA2 * f(D) + rCDA3 * f(A)\n",
    "    else:\n",
    "        return np.nan"
   ]
  },
  {
   "cell_type": "markdown",
   "metadata": {},
   "source": [
    "Now consider the function:\n",
    "$$\n",
    "f(x_1,x_2) = x_1 \\cdot x_2\n",
    "$$"
   ]
  },
  {
   "cell_type": "code",
   "execution_count": 7,
   "metadata": {},
   "outputs": [],
   "source": [
    "f = lambda x: x[0]*x[1]\n",
    "F = np.array([f(x) for x in X])"
   ]
  },
  {
   "cell_type": "markdown",
   "metadata": {},
   "source": [
    "**Question 3:** Compute the approximation of $f(y)$ using the full algorithm. Compare with the true value."
   ]
  },
  {
   "cell_type": "code",
   "execution_count": 8,
   "metadata": {},
   "outputs": [
    {
     "name": "stdout",
     "output_type": "stream",
     "text": [
      "Approximate value of f(y): 0.08405201731052576\n",
      "True value of f(y): 0.0789565216259594\n"
     ]
    }
   ],
   "source": [
    "# write your answer here\n",
    "\n",
    "# Compute the approximation of f(y)\n",
    "def interpolate_value(y, A, B, C, D, F, X):\n",
    "    rABC1, rABC2, rABC3 = barycentric_coordinates(y, A, B, C)\n",
    "    rCDA1, rCDA2, rCDA3 = barycentric_coordinates(y, C, D, A)\n",
    "    \n",
    "    if all(0 <= r <= 1 for r in [rABC1, rABC2, rABC3] if r is not None):\n",
    "        return rABC1 * f(A) + rABC2 * f(B) + rABC3 * f(C)\n",
    "    elif all(0 <= r <= 1 for r in [rCDA1, rCDA2, rCDA3] if r is not None):\n",
    "        return rCDA1 * f(C) + rCDA2 * f(D) + rCDA3 * f(A)\n",
    "    else:\n",
    "        return np.nan\n",
    "\n",
    "f_y_approx = interpolate_value(y, A, B, C, D, F, X)\n",
    "f_y_true = f(y)\n",
    "\n",
    "print(f'Approximate value of f(y): {f_y_approx}')\n",
    "print(f'True value of f(y): {f_y_true}')\n",
    "\n"
   ]
  },
  {
   "cell_type": "markdown",
   "metadata": {},
   "source": [
    "**Question 4:** Repeat question 3 for all points in the set $Y$."
   ]
  },
  {
   "cell_type": "code",
   "execution_count": 9,
   "metadata": {},
   "outputs": [],
   "source": [
    "Y = [(0.2,0.2),(0.8,0.2),(0.8,0.8),(0.8,0.2),(0.5,0.5)]"
   ]
  },
  {
   "cell_type": "code",
   "execution_count": 10,
   "metadata": {},
   "outputs": [
    {
     "name": "stdout",
     "output_type": "stream",
     "text": [
      "            y  f_y_approx  f_y_true\n",
      "0  [0.2, 0.2]    0.040326      0.04\n",
      "1  [0.8, 0.2]    0.158742      0.16\n",
      "2  [0.8, 0.8]         NaN      0.64\n",
      "3  [0.8, 0.2]    0.158742      0.16\n",
      "4  [0.5, 0.5]    0.251290      0.25\n"
     ]
    }
   ],
   "source": [
    "# write your answer here\n",
    "import pandas as pd\n",
    "\n",
    "Y = np.array(Y)\n",
    "\n",
    "# Compute the interpolated and true values for all points in Y\n",
    "results = []\n",
    "for y in Y:\n",
    "    A, B, C, D = find_points(X, y)\n",
    "\n",
    "    '''\n",
    "    # Print the points for debugging\n",
    "    print(f'For point y={y}:')\n",
    "    print(f'Point A: {A}')\n",
    "    print(f'Point B: {B}')\n",
    "    print(f'Point C: {C}')\n",
    "    print(f'Point D: {D}')\n",
    "    '''\n",
    "\n",
    "    f_y_approx = compute_interpolation(y, A, B, C, D)\n",
    "    f_y_true = f(y)\n",
    "    results.append((y, f_y_approx, f_y_true))\n",
    "\n",
    "df_results = pd.DataFrame(results, columns=['y', 'f_y_approx', 'f_y_true'])\n",
    "print(df_results)\n",
    "\n",
    "# Explanation of the NaN value:\n",
    "# The NaN value for the point [0.8, 0.8] in the example is due to the absence\n",
    "# of a point in the 50-element set X that satisfies the triangels ABC,CDA seraching algorithm condition x[1] > 0.8 and x[2] > 0.8.\n",
    "# Increasing the number of points in X would help to ensure that appropriate points can be found but such improvemnts are not required in the exam questions"
   ]
  }
 ],
 "metadata": {
  "kernelspec": {
   "display_name": "base",
   "language": "python",
   "name": "python3"
  },
  "language_info": {
   "codemirror_mode": {
    "name": "ipython",
    "version": 3
   },
   "file_extension": ".py",
   "mimetype": "text/x-python",
   "name": "python",
   "nbconvert_exporter": "python",
   "pygments_lexer": "ipython3",
   "version": "3.11.8"
  }
 },
 "nbformat": 4,
 "nbformat_minor": 2
}
